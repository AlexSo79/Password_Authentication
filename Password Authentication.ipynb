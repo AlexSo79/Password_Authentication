{
 "cells": [
  {
   "cell_type": "code",
   "execution_count": 1,
   "id": "43e698b9",
   "metadata": {},
   "outputs": [
    {
     "name": "stdout",
     "output_type": "stream",
     "text": [
      "Verified\n"
     ]
    }
   ],
   "source": [
    "import getpass\n",
    "database = {\"user1\":\"123456\",\"User2\":\"654321\",\"User3\":\"67890\",\"User4\":\"09876\"}\n",
    "username = input(\"Enter your username: \")\n",
    "password = getpass.getpass(\"Enter your password: \")\n",
    "for i in database.keys():\n",
    "    if username == i:\n",
    "        while password != database.get(i):\n",
    "            password = getpass.getpass(\"Enter your password again: \")\n",
    "        break\n",
    "print(\"Verified\")"
   ]
  },
  {
   "cell_type": "code",
   "execution_count": null,
   "id": "32bfd314",
   "metadata": {},
   "outputs": [],
   "source": []
  }
 ],
 "metadata": {
  "kernelspec": {
   "display_name": "Python 3 (ipykernel)",
   "language": "python",
   "name": "python3"
  },
  "language_info": {
   "codemirror_mode": {
    "name": "ipython",
    "version": 3
   },
   "file_extension": ".py",
   "mimetype": "text/x-python",
   "name": "python",
   "nbconvert_exporter": "python",
   "pygments_lexer": "ipython3",
   "version": "3.10.9"
  }
 },
 "nbformat": 4,
 "nbformat_minor": 5
}
